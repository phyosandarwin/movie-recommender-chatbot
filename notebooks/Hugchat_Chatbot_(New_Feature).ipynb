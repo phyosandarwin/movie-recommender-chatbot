{
  "nbformat": 4,
  "nbformat_minor": 0,
  "metadata": {
    "colab": {
      "provenance": [],
      "gpuType": "T4"
    },
    "kernelspec": {
      "name": "python3",
      "display_name": "Python 3"
    },
    "language_info": {
      "name": "python"
    },
    "accelerator": "GPU"
  },
  "cells": [
    {
      "cell_type": "code",
      "execution_count": 1,
      "metadata": {
        "colab": {
          "base_uri": "https://localhost:8080/"
        },
        "id": "6pZwAPTco4hp",
        "outputId": "a786e44b-36cf-46d7-b3bb-d08faf6bc60b"
      },
      "outputs": [
        {
          "output_type": "stream",
          "name": "stdout",
          "text": [
            "Requirement already satisfied: hugchat==0.1.0 in /usr/local/lib/python3.10/dist-packages (0.1.0)\n",
            "Requirement already satisfied: python-dotenv in /usr/local/lib/python3.10/dist-packages (1.0.0)\n",
            "Requirement already satisfied: requests in /usr/local/lib/python3.10/dist-packages (from hugchat==0.1.0) (2.31.0)\n",
            "Requirement already satisfied: requests-toolbelt in /usr/local/lib/python3.10/dist-packages (from hugchat==0.1.0) (1.0.0)\n",
            "Requirement already satisfied: charset-normalizer<4,>=2 in /usr/local/lib/python3.10/dist-packages (from requests->hugchat==0.1.0) (3.2.0)\n",
            "Requirement already satisfied: idna<4,>=2.5 in /usr/local/lib/python3.10/dist-packages (from requests->hugchat==0.1.0) (3.4)\n",
            "Requirement already satisfied: urllib3<3,>=1.21.1 in /usr/local/lib/python3.10/dist-packages (from requests->hugchat==0.1.0) (2.0.4)\n",
            "Requirement already satisfied: certifi>=2017.4.17 in /usr/local/lib/python3.10/dist-packages (from requests->hugchat==0.1.0) (2023.7.22)\n"
          ]
        }
      ],
      "source": [
        "!pip install hugchat==0.1.0 python-dotenv"
      ]
    },
    {
      "cell_type": "code",
      "source": [
        "# load credentials\n",
        "from dotenv import dotenv_values\n",
        "secrets = dotenv_values('/content/drive/MyDrive/streamlit_movierec/hf.env')\n",
        "\n",
        "hf_email = secrets['EMAIL']\n",
        "hf_pass = secrets['PASS']"
      ],
      "metadata": {
        "id": "6reJKPOuqXYU"
      },
      "execution_count": 2,
      "outputs": []
    },
    {
      "cell_type": "code",
      "source": [
        "from hugchat import hugchat\n",
        "from hugchat.login import Login"
      ],
      "metadata": {
        "id": "oE6ndILIt1K_"
      },
      "execution_count": 3,
      "outputs": []
    },
    {
      "cell_type": "code",
      "source": [
        "# Function for generating LLM response\n",
        "def generate_response(prompt_input, email, passwd):\n",
        "    # Hugging Face Login\n",
        "    sign = Login(email, passwd)\n",
        "    cookies = sign.login()\n",
        "    # Create ChatBot\n",
        "    chatbot = hugchat.ChatBot(cookies=cookies.get_dict())\n",
        "    return chatbot.chat(prompt_input)"
      ],
      "metadata": {
        "id": "lr8VL3Gtt8Eh"
      },
      "execution_count": 4,
      "outputs": []
    },
    {
      "cell_type": "code",
      "source": [
        "prompt = \"Who is Adam Sandler?\"\n",
        "response = generate_response(prompt, hf_email, hf_pass)\n",
        "\n",
        "response"
      ],
      "metadata": {
        "colab": {
          "base_uri": "https://localhost:8080/",
          "height": 36
        },
        "id": "7N0V_XjFuA9k",
        "outputId": "bebe0762-8091-491d-e69b-028af05d5f41"
      },
      "execution_count": 5,
      "outputs": [
        {
          "output_type": "execute_result",
          "data": {
            "text/plain": [
              "'Adam Sandler is a famous actor and comedian known for his roles in movies like Happy Gilmore, Billy Madison, Waterboy and Bedtime Stories.'"
            ],
            "application/vnd.google.colaboratory.intrinsic+json": {
              "type": "string"
            }
          },
          "metadata": {},
          "execution_count": 5
        }
      ]
    },
    {
      "cell_type": "code",
      "source": [],
      "metadata": {
        "id": "3PPcXjRluI5e"
      },
      "execution_count": 5,
      "outputs": []
    }
  ]
}